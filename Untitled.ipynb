{
 "cells": [
  {
   "cell_type": "code",
   "execution_count": 1,
   "metadata": {},
   "outputs": [],
   "source": [
    "import pandas as pd"
   ]
  },
  {
   "cell_type": "code",
   "execution_count": 2,
   "metadata": {},
   "outputs": [],
   "source": [
    "df = pd.read_csv('most_frequent_names.csv')"
   ]
  },
  {
   "cell_type": "code",
   "execution_count": 3,
   "metadata": {},
   "outputs": [
    {
     "data": {
      "text/html": [
       "<div>\n",
       "<style scoped>\n",
       "    .dataframe tbody tr th:only-of-type {\n",
       "        vertical-align: middle;\n",
       "    }\n",
       "\n",
       "    .dataframe tbody tr th {\n",
       "        vertical-align: top;\n",
       "    }\n",
       "\n",
       "    .dataframe thead th {\n",
       "        text-align: right;\n",
       "    }\n",
       "</style>\n",
       "<table border=\"1\" class=\"dataframe\">\n",
       "  <thead>\n",
       "    <tr style=\"text-align: right;\">\n",
       "      <th></th>\n",
       "      <th>Order</th>\n",
       "      <th>Name</th>\n",
       "      <th>Gender</th>\n",
       "      <th>Decade</th>\n",
       "      <th>Frequency</th>\n",
       "    </tr>\n",
       "  </thead>\n",
       "  <tbody>\n",
       "    <tr>\n",
       "      <th>0</th>\n",
       "      <td>1</td>\n",
       "      <td>MARIA</td>\n",
       "      <td>Female</td>\n",
       "      <td>Before 1930</td>\n",
       "      <td>2085</td>\n",
       "    </tr>\n",
       "    <tr>\n",
       "      <th>1</th>\n",
       "      <td>2</td>\n",
       "      <td>CARMEN</td>\n",
       "      <td>Female</td>\n",
       "      <td>Before 1930</td>\n",
       "      <td>1463</td>\n",
       "    </tr>\n",
       "    <tr>\n",
       "      <th>2</th>\n",
       "      <td>3</td>\n",
       "      <td>JOSEFA</td>\n",
       "      <td>Female</td>\n",
       "      <td>Before 1930</td>\n",
       "      <td>1032</td>\n",
       "    </tr>\n",
       "    <tr>\n",
       "      <th>3</th>\n",
       "      <td>4</td>\n",
       "      <td>MONTSERRAT</td>\n",
       "      <td>Female</td>\n",
       "      <td>Before 1930</td>\n",
       "      <td>879</td>\n",
       "    </tr>\n",
       "    <tr>\n",
       "      <th>4</th>\n",
       "      <td>5</td>\n",
       "      <td>ROSA</td>\n",
       "      <td>Female</td>\n",
       "      <td>Before 1930</td>\n",
       "      <td>762</td>\n",
       "    </tr>\n",
       "  </tbody>\n",
       "</table>\n",
       "</div>"
      ],
      "text/plain": [
       "   Order        Name  Gender       Decade  Frequency\n",
       "0      1       MARIA  Female  Before 1930       2085\n",
       "1      2      CARMEN  Female  Before 1930       1463\n",
       "2      3      JOSEFA  Female  Before 1930       1032\n",
       "3      4  MONTSERRAT  Female  Before 1930        879\n",
       "4      5        ROSA  Female  Before 1930        762"
      ]
     },
     "execution_count": 3,
     "metadata": {},
     "output_type": "execute_result"
    }
   ],
   "source": [
    "df.head()"
   ]
  },
  {
   "cell_type": "code",
   "execution_count": 12,
   "metadata": {},
   "outputs": [
    {
     "ename": "ValueError",
     "evalue": "The truth value of a Series is ambiguous. Use a.empty, a.bool(), a.item(), a.any() or a.all().",
     "output_type": "error",
     "traceback": [
      "\u001b[1;31m---------------------------------------------------------------------------\u001b[0m",
      "\u001b[1;31mValueError\u001b[0m                                Traceback (most recent call last)",
      "\u001b[1;32m<ipython-input-12-a199a0e19ef5>\u001b[0m in \u001b[0;36m<module>\u001b[1;34m\u001b[0m\n\u001b[0;32m      1\u001b[0m \u001b[1;32mfor\u001b[0m \u001b[0myear\u001b[0m \u001b[1;32min\u001b[0m \u001b[0mset\u001b[0m\u001b[1;33m(\u001b[0m\u001b[0mdf\u001b[0m\u001b[1;33m[\u001b[0m\u001b[1;34m'Decade'\u001b[0m\u001b[1;33m]\u001b[0m\u001b[1;33m)\u001b[0m\u001b[1;33m:\u001b[0m\u001b[1;33m\u001b[0m\u001b[1;33m\u001b[0m\u001b[0m\n\u001b[1;32m----> 2\u001b[1;33m     \u001b[0mprint\u001b[0m\u001b[1;33m(\u001b[0m\u001b[0mdf\u001b[0m\u001b[1;33m[\u001b[0m\u001b[0mdf\u001b[0m\u001b[1;33m[\u001b[0m\u001b[1;34m'Decade'\u001b[0m\u001b[1;33m]\u001b[0m \u001b[1;33m==\u001b[0m \u001b[0myear\u001b[0m \u001b[1;32mand\u001b[0m \u001b[0mdf\u001b[0m\u001b[1;33m[\u001b[0m\u001b[1;34m'Gender'\u001b[0m\u001b[1;33m]\u001b[0m \u001b[1;33m==\u001b[0m \u001b[1;34m'Male'\u001b[0m\u001b[1;33m]\u001b[0m\u001b[1;33m.\u001b[0m\u001b[0mhead\u001b[0m\u001b[1;33m(\u001b[0m\u001b[1;33m)\u001b[0m\u001b[1;33m)\u001b[0m\u001b[1;33m\u001b[0m\u001b[1;33m\u001b[0m\u001b[0m\n\u001b[0m\u001b[0;32m      3\u001b[0m \u001b[1;31m#     df[year].to_csv(f'df{year}.csv')\u001b[0m\u001b[1;33m\u001b[0m\u001b[1;33m\u001b[0m\u001b[1;33m\u001b[0m\u001b[0m\n",
      "\u001b[1;32mc:\\users\\roger\\appdata\\local\\programs\\python\\python37\\lib\\site-packages\\pandas\\core\\generic.py\u001b[0m in \u001b[0;36m__nonzero__\u001b[1;34m(self)\u001b[0m\n\u001b[0;32m   1574\u001b[0m         raise ValueError(\"The truth value of a {0} is ambiguous. \"\n\u001b[0;32m   1575\u001b[0m                          \u001b[1;34m\"Use a.empty, a.bool(), a.item(), a.any() or a.all().\"\u001b[0m\u001b[1;33m\u001b[0m\u001b[1;33m\u001b[0m\u001b[0m\n\u001b[1;32m-> 1576\u001b[1;33m                          .format(self.__class__.__name__))\n\u001b[0m\u001b[0;32m   1577\u001b[0m \u001b[1;33m\u001b[0m\u001b[0m\n\u001b[0;32m   1578\u001b[0m     \u001b[0m__bool__\u001b[0m \u001b[1;33m=\u001b[0m \u001b[0m__nonzero__\u001b[0m\u001b[1;33m\u001b[0m\u001b[1;33m\u001b[0m\u001b[0m\n",
      "\u001b[1;31mValueError\u001b[0m: The truth value of a Series is ambiguous. Use a.empty, a.bool(), a.item(), a.any() or a.all()."
     ]
    }
   ],
   "source": [
    "for year in set(df['Decade']):\n",
    "#     print(df[df['Decade'] == year and df['Gender'] == 'Male'].head())\n",
    "     print(df[df['Decade'] == year].head())\n",
    "#     df[year].to_csv(f'df{year}.csv')"
   ]
  },
  {
   "cell_type": "code",
   "execution_count": 13,
   "metadata": {},
   "outputs": [],
   "source": [
    "df_male = df[df['Gender'] == 'Male']"
   ]
  },
  {
   "cell_type": "code",
   "execution_count": 14,
   "metadata": {},
   "outputs": [
    {
     "data": {
      "text/html": [
       "<div>\n",
       "<style scoped>\n",
       "    .dataframe tbody tr th:only-of-type {\n",
       "        vertical-align: middle;\n",
       "    }\n",
       "\n",
       "    .dataframe tbody tr th {\n",
       "        vertical-align: top;\n",
       "    }\n",
       "\n",
       "    .dataframe thead th {\n",
       "        text-align: right;\n",
       "    }\n",
       "</style>\n",
       "<table border=\"1\" class=\"dataframe\">\n",
       "  <thead>\n",
       "    <tr style=\"text-align: right;\">\n",
       "      <th></th>\n",
       "      <th>Order</th>\n",
       "      <th>Name</th>\n",
       "      <th>Gender</th>\n",
       "      <th>Decade</th>\n",
       "      <th>Frequency</th>\n",
       "    </tr>\n",
       "  </thead>\n",
       "  <tbody>\n",
       "    <tr>\n",
       "      <th>500</th>\n",
       "      <td>1</td>\n",
       "      <td>JOSE</td>\n",
       "      <td>Male</td>\n",
       "      <td>Before 1930</td>\n",
       "      <td>822</td>\n",
       "    </tr>\n",
       "    <tr>\n",
       "      <th>501</th>\n",
       "      <td>2</td>\n",
       "      <td>ANTONIO</td>\n",
       "      <td>Male</td>\n",
       "      <td>Before 1930</td>\n",
       "      <td>591</td>\n",
       "    </tr>\n",
       "    <tr>\n",
       "      <th>502</th>\n",
       "      <td>3</td>\n",
       "      <td>JUAN</td>\n",
       "      <td>Male</td>\n",
       "      <td>Before 1930</td>\n",
       "      <td>524</td>\n",
       "    </tr>\n",
       "    <tr>\n",
       "      <th>503</th>\n",
       "      <td>4</td>\n",
       "      <td>FRANCISCO</td>\n",
       "      <td>Male</td>\n",
       "      <td>Before 1930</td>\n",
       "      <td>520</td>\n",
       "    </tr>\n",
       "    <tr>\n",
       "      <th>504</th>\n",
       "      <td>5</td>\n",
       "      <td>MANUEL</td>\n",
       "      <td>Male</td>\n",
       "      <td>Before 1930</td>\n",
       "      <td>481</td>\n",
       "    </tr>\n",
       "  </tbody>\n",
       "</table>\n",
       "</div>"
      ],
      "text/plain": [
       "     Order       Name Gender       Decade  Frequency\n",
       "500      1       JOSE   Male  Before 1930        822\n",
       "501      2    ANTONIO   Male  Before 1930        591\n",
       "502      3       JUAN   Male  Before 1930        524\n",
       "503      4  FRANCISCO   Male  Before 1930        520\n",
       "504      5     MANUEL   Male  Before 1930        481"
      ]
     },
     "execution_count": 14,
     "metadata": {},
     "output_type": "execute_result"
    }
   ],
   "source": [
    "df_male.head()"
   ]
  },
  {
   "cell_type": "code",
   "execution_count": 15,
   "metadata": {},
   "outputs": [
    {
     "name": "stdout",
     "output_type": "stream",
     "text": [
      "     Order    Name Gender Decade  Frequency\n",
      "800      1   DAVID   Male   1980       2928\n",
      "801      2  DANIEL   Male   1980       2392\n",
      "802      3   JORDI   Male   1980       2172\n",
      "803      4    MARC   Male   1980       2054\n",
      "804      5  JAVIER   Male   1980       1825\n",
      "     Order       Name Gender Decade  Frequency\n",
      "550      1       JOSE   Male   1930       3165\n",
      "551      2    ANTONIO   Male   1930       2368\n",
      "552      3     MANUEL   Male   1930       1911\n",
      "553      4  FRANCISCO   Male   1930       1887\n",
      "554      5       JUAN   Male   1930       1877\n",
      "     Order    Name Gender Decade  Frequency\n",
      "850      1    MARC   Male   1990       2584\n",
      "851      2   DAVID   Male   1990       1808\n",
      "852      3  DANIEL   Male   1990       1638\n",
      "853      4  ALBERT   Male   1990       1349\n",
      "854      5  VICTOR   Male   1990       1342\n",
      "     Order     Name Gender Decade  Frequency\n",
      "700      1  ANTONIO   Male   1960       2926\n",
      "701      2    JORDI   Male   1960       2924\n",
      "702      3    JORGE   Male   1960       2338\n",
      "703      4   CARLOS   Male   1960       2279\n",
      "704      5   MANUEL   Male   1960       2137\n",
      "      Order     Name Gender Decade  Frequency\n",
      "1050      1  ANTONIO   Male  TOTAL      16709\n",
      "1051      2     JOSE   Male  TOTAL      15740\n",
      "1052      3    JORDI   Male  TOTAL      13723\n",
      "1053      4    DAVID   Male  TOTAL      12528\n",
      "1054      5   MANUEL   Male  TOTAL      12453\n",
      "     Order    Name Gender Decade  Frequency\n",
      "750      1   DAVID   Male   1970       4393\n",
      "751      2   JORDI   Male   1970       3485\n",
      "752      3  DANIEL   Male   1970       2510\n",
      "753      4  CARLOS   Male   1970       2307\n",
      "754      5  JAVIER   Male   1970       2287\n",
      "     Order  Name Gender Decade  Frequency\n",
      "950      1  MARC   Male   2010       1422\n",
      "951      2  ALEX   Male   2010       1037\n",
      "952      3   POL   Male   2010       1003\n",
      "953      4  ERIC   Male   2010        902\n",
      "954      5   PAU   Male   2010        882\n",
      "     Order       Name Gender Decade  Frequency\n",
      "650      1    ANTONIO   Male   1950       3587\n",
      "651      2       JOSE   Male   1950       3414\n",
      "652      3  FRANCISCO   Male   1950       2762\n",
      "653      4     MANUEL   Male   1950       2754\n",
      "654      5       JUAN   Male   1950       2278\n",
      "     Order       Name Gender Decade  Frequency\n",
      "600      1       JOSE   Male   1940       4226\n",
      "601      2    ANTONIO   Male   1940       3816\n",
      "602      3  FRANCISCO   Male   1940       2868\n",
      "603      4     MANUEL   Male   1940       2851\n",
      "604      5       JUAN   Male   1940       2590\n",
      "     Order       Name Gender       Decade  Frequency\n",
      "500      1       JOSE   Male  Before 1930        822\n",
      "501      2    ANTONIO   Male  Before 1930        591\n",
      "502      3       JUAN   Male  Before 1930        524\n",
      "503      4  FRANCISCO   Male  Before 1930        520\n",
      "504      5     MANUEL   Male  Before 1930        481\n",
      "     Order    Name Gender Decade  Frequency\n",
      "900      1    MARC   Male   2000       2309\n",
      "901      2    ALEX   Male   2000       1631\n",
      "902      3     POL   Male   2000       1563\n",
      "903      4     PAU   Male   2000       1499\n",
      "904      5  DANIEL   Male   2000       1246\n"
     ]
    }
   ],
   "source": [
    "for year in set(df_male['Decade']):\n",
    "     print(df_male[df_male['Decade'] == year].head())"
   ]
  },
  {
   "cell_type": "code",
   "execution_count": 9,
   "metadata": {},
   "outputs": [
    {
     "data": {
      "text/plain": [
       "0    Before 1930\n",
       "1    Before 1930\n",
       "2    Before 1930\n",
       "3    Before 1930\n",
       "4    Before 1930\n",
       "Name: Decade, dtype: object"
      ]
     },
     "execution_count": 9,
     "metadata": {},
     "output_type": "execute_result"
    }
   ],
   "source": [
    "df['Decade'].head()"
   ]
  }
 ],
 "metadata": {
  "kernelspec": {
   "display_name": "Python 3",
   "language": "python",
   "name": "python3"
  },
  "language_info": {
   "codemirror_mode": {
    "name": "ipython",
    "version": 3
   },
   "file_extension": ".py",
   "mimetype": "text/x-python",
   "name": "python",
   "nbconvert_exporter": "python",
   "pygments_lexer": "ipython3",
   "version": "3.7.2"
  }
 },
 "nbformat": 4,
 "nbformat_minor": 2
}
